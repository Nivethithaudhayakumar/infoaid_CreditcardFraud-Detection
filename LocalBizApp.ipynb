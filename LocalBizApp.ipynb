{
  "nbformat": 4,
  "nbformat_minor": 0,
  "metadata": {
    "colab": {
      "provenance": [],
      "authorship_tag": "ABX9TyOxHT6hBtcJPFVIwQSCX0kA",
      "include_colab_link": true
    },
    "kernelspec": {
      "name": "python3",
      "display_name": "Python 3"
    },
    "language_info": {
      "name": "python"
    }
  },
  "cells": [
    {
      "cell_type": "markdown",
      "metadata": {
        "id": "view-in-github",
        "colab_type": "text"
      },
      "source": [
        "<a href=\"https://colab.research.google.com/github/Nivethithaudhayakumar/infoaid_CreditcardFraud-Detection/blob/main/LocalBizApp.ipynb\" target=\"_parent\"><img src=\"https://colab.research.google.com/assets/colab-badge.svg\" alt=\"Open In Colab\"/></a>"
      ]
    },
    {
      "cell_type": "code",
      "execution_count": null,
      "metadata": {
        "id": "fqwQTTQ2oxuL"
      },
      "outputs": [],
      "source": [
        "# BACKEND - FLASK\n",
        "from flask import Flask, jsonify\n",
        "app = Flask(__name__)\n",
        "HERE_API_KEY = 'KEY'\n",
        "\n",
        "@app.route('/discover/<category>/<latitude>/<longitude>')\n",
        "def discover_places(category, latitude, longitude)\n",
        "    places_data = {\n",
        "        'places': [\n",
        "            {\n",
        "                'name': 'Example Business',\n",
        "                'rating': 4.5,\n",
        "                'reviews': 120,\n",
        "                'hours': '9 AM - 6 PM',\n",
        "                'special_offers': '10% off on weekdays'\n",
        "            },\n",
        "\n",
        "        ]\n",
        "    }\n",
        "    return jsonify(places_data)\n",
        "\n",
        "if __name__ == '__main__':\n",
        "    app.run(debug=True)\n"
      ]
    },
    {
      "cell_type": "code",
      "source": [
        "# FRONTEND - HTML and JAVASCRIPT\n",
        "<!DOCTYPE html>\n",
        "<html lang=\"en\">\n",
        "<head>\n",
        "    <meta charset=\"UTF-8\">\n",
        "    <meta name=\"viewport\" content=\"width=device-width, initial-scale=1.0\">\n",
        "    <title>Local Business Discovery App</title>\n",
        "</head>\n",
        "<body>\n",
        "    <h1>Discover Local Businesses</h1>\n",
        "\n",
        "    <div id=\"placesList\"></div>\n",
        "\n",
        "    <script>\n",
        "        const category = 'restaurants'; //\n",
        "        const latitude = '37.7749';    //\n",
        "        const longitude = '-122.4194';  //\n",
        "\n",
        "        fetch(`/discover/${category}/${latitude}/${longitude}`)\n",
        "            .then(response => response.json())\n",
        "            .then(data => {\n",
        "                const placesList = document.getElementById('placesList');\n",
        "                data.places.forEach(place => {\n",
        "                    // Create and display HTML elements for each place\n",
        "                    const placeDiv = document.createElement('div');\n",
        "                    placeDiv.innerHTML = `\n",
        "                        <h3>${place.name}</h3>\n",
        "                        <p>Rating: ${place.rating}</p>\n",
        "                        <p>Reviews: ${place.reviews}</p>\n",
        "                        <p>Hours: ${place.hours}</p>\n",
        "                        <p>Special Offers: ${place.special_offers}</p>\n",
        "                        <hr>\n",
        "                    `;\n",
        "                    placesList.appendChild(placeDiv);\n",
        "                });\n",
        "            });\n",
        "    </script>\n",
        "</body>\n",
        "</html>\n"
      ],
      "metadata": {
        "id": "DURFupXdpfbF"
      },
      "execution_count": null,
      "outputs": []
    }
  ]
}